{
 "cells": [
  {
   "cell_type": "code",
   "execution_count": 1,
   "metadata": {},
   "outputs": [],
   "source": [
    "#This code imports the three source files from usafacts\n",
    "#It produces multiple dataframes:\n",
    "##raw\n",
    "#1. cases_by_county_df: confirmed cases by county, by day from 1/22/20 to 6/15/20, including a column for country population.\n",
    "#2. cases_by_state_df: a group-by of #1, organised into US States.\n",
    "#3. deaths_by_county_df: confirmed deaths by county, by day from 1/22/20 to 6/15/20, including a column for country population.\n",
    "#4. deaths_by_state_df: a group-by of #3, organised into US States.\n",
    "#5. rates_by_county_df: #3 divivded by #1, to get deaths / cases per day by county.\n",
    "#6. rates_by_state_df: #4 divivded by #2, to get deaths / cases per day by state.\n",
    "##per capita\n",
    "#7. cases_by_county_per_capita: #1 divided by 2019 census population\n",
    "#8. deaths_by_county_per_capita: #3 divided by 2019 census population\n",
    "#9. rates_by_county_per_capita: #5 divided by 2019 census population\n",
    "#10. cases_by_state_per_capita: #2 divided by 2019 census population\n",
    "#11. deaths_by_state_per_capita: #4 divided by 2019 census population\n",
    "#12. rates_by_state_per_capita: #6 divided by 2019 census population"
   ]
  },
  {
   "cell_type": "code",
   "execution_count": 2,
   "metadata": {},
   "outputs": [],
   "source": [
    "# Dependencies and Setup\n",
    "import os\n",
    "import pandas as pd"
   ]
  },
  {
   "cell_type": "code",
   "execution_count": 3,
   "metadata": {},
   "outputs": [],
   "source": [
    "#import csv files from output path\n",
    "file_path = os.path.join('source_data', 'covid_confirmed_usafacts.csv')\n",
    "cases_by_county_df = pd.read_csv(file_path, encoding=\"utf-8\")\n",
    "\n",
    "file_path = os.path.join('source_data', 'covid_deaths_usafacts.csv')\n",
    "deaths_by_county_df = pd.read_csv(file_path,encoding=\"utf-8\")\n",
    "\n",
    "file_path = os.path.join('source_data', 'covid_county_population_usafacts.csv')\n",
    "county_pop_df = pd.read_csv(file_path, encoding=\"utf-8\")"
   ]
  },
  {
   "cell_type": "code",
   "execution_count": 4,
   "metadata": {},
   "outputs": [],
   "source": [
    "#create new columns for county+state (because lots of duplicate county names in different states)\n",
    "county_pop_df[\"County&State\"] = county_pop_df['County Name'] + ',' + county_pop_df['State']\n",
    "deaths_by_county_df[\"County&State\"] = deaths_by_county_df['County Name'] + ',' + deaths_by_county_df['State']\n",
    "cases_by_county_df[\"County&State\"] = cases_by_county_df['County Name'] + ',' + cases_by_county_df['State']"
   ]
  },
  {
   "cell_type": "code",
   "execution_count": 5,
   "metadata": {},
   "outputs": [],
   "source": [
    "#data clean up - some county names in deaths_by_county_df are not the same in other dataframes.\n",
    "deaths_by_county_df['County&State'] = deaths_by_county_df['County&State'].replace({'Broomfield County,CO': 'Broomfield County and City,CO', \n",
    "                                                                       'Mathews County,VA': 'Matthews County,VA',\n",
    "                                                                        'Lac qui Parle County,MN': 'Lac Qui Parle County,MN',          \n",
    "                                                                         'Alexandria city,VA': 'Alexandria City,VA',\n",
    "                                                                                   'Charlottesville city,VA': 'Charlottesville City,VA',\n",
    "                                                                                   'Chesapeake city,VA': 'Chesapeake City,VA',\n",
    "                                                                                   'Danville city,VA': 'Danville City,VA',\n",
    "                                                                                   'Fredericksburg city,VA': 'Fredericksburg City,VA',\n",
    "                                                                                   'Harrisonburg city,VA': 'Harrisonburg City,VA',\n",
    "                                                                                   'Manassas city,VA': 'Manassas City,VA',\n",
    "                                                                                   'Norfolk city,VA': 'Norfolk City,VA',\n",
    "                                                                                   'Portsmouth city,VA': 'Portsmouth City,VA',\n",
    "                                                                                   'Richmond city,VA': 'Richmond City,VA',\n",
    "                                                                                   'Suffolk city,VA': 'Suffolk City,VA',\n",
    "                                                                                   'Virginia Beach city,VA': 'Virginia Beach City,VA'\n",
    "                                                                                  })"
   ]
  },
  {
   "cell_type": "code",
   "execution_count": 6,
   "metadata": {},
   "outputs": [],
   "source": [
    "#1. cases_by_county_df\n",
    "#add county population to cases_by_county_df\n",
    "cases_by_county_df = pd.merge(cases_by_county_df, county_pop_df, on=\"County&State\", how=\"outer\")\n",
    "#tidy up\n",
    "cases_by_county_df.rename(columns={'countyFIPS_x':'countyFIPS','County Name_x': 'County Name', \"State_x\":'State',\"population_x\":\"population\"}, inplace=True)\n",
    "del cases_by_county_df['countyFIPS_y']\n",
    "del cases_by_county_df['State_y']\n",
    "del cases_by_county_df['County Name_y']\n",
    "cases_by_county_df = cases_by_county_df.set_index(\"County&State\")\n",
    "cases_by_county_df.to_csv('output_data/cases_by_county_df.csv', index=True, header=True)"
   ]
  },
  {
   "cell_type": "code",
   "execution_count": 7,
   "metadata": {},
   "outputs": [],
   "source": [
    "#3. deaths_by_county_df\n",
    "#add county population to deaths_by_county_df\n",
    "deaths_by_county_df = pd.merge(deaths_by_county_df, county_pop_df, on=\"County&State\", how=\"outer\")\n",
    "#tidy up\n",
    "deaths_by_county_df.rename(columns={'countyFIPS_x':'countyFIPS','County Name_x': 'County Name', \"State_x\":'State',\"population_x\":\"population\"}, inplace=True)\n",
    "del deaths_by_county_df['countyFIPS_y']\n",
    "del deaths_by_county_df['State_y']\n",
    "del deaths_by_county_df['County Name_y']\n",
    "deaths_by_county_df = deaths_by_county_df.set_index(\"County&State\")\n",
    "deaths_by_county_df.to_csv('output_data/deaths_by_county_df.csv', index=True, header=True)"
   ]
  },
  {
   "cell_type": "code",
   "execution_count": 8,
   "metadata": {},
   "outputs": [],
   "source": [
    "#2. cases_by_state_df\n",
    "#4. deaths_by_state_df\n",
    "#groupby state\n",
    "cases_by_state_df = cases_by_county_df.groupby(['State'])\n",
    "cases_by_state_df = cases_by_state_df.sum()\n",
    "cases_by_state_df.to_csv('output_data/cases_by_state_df.csv', index=True, header=True)\n",
    "\n",
    "deaths_by_state_df = deaths_by_county_df.groupby(['State'])\n",
    "deaths_by_state_df = deaths_by_state_df.sum()\n",
    "deaths_by_state_df.to_csv('output_data/deaths_by_state_df.csv', index=True, header=True)\n"
   ]
  },
  {
   "cell_type": "code",
   "execution_count": 9,
   "metadata": {},
   "outputs": [],
   "source": [
    "#5. rates_by_county_df\n",
    "#divide deaths by cases for county\n",
    "\n",
    "#copy dataframe and delete columns that are strings\n",
    "deaths_by_county_df_no_string = deaths_by_county_df\n",
    "del deaths_by_county_df_no_string['countyFIPS']\n",
    "del deaths_by_county_df_no_string['County Name']\n",
    "del deaths_by_county_df_no_string['State']\n",
    "del deaths_by_county_df_no_string['stateFIPS']\n",
    "#copy dataframe and delete columns that are strings\n",
    "case_by_county_df_no_string = cases_by_county_df\n",
    "del case_by_county_df_no_string['countyFIPS']\n",
    "del case_by_county_df_no_string['County Name']\n",
    "del case_by_county_df_no_string['State']\n",
    "del case_by_county_df_no_string['stateFIPS']\n",
    "\n",
    "rates_by_county_df = deaths_by_county_df_no_string.div(case_by_county_df_no_string)\n",
    "#rates_by_county_df=rates_by_county_df.fillna(0)\n",
    "rates_by_county_df.to_csv('output_data/rates_by_county_df.csv', index=True, header=True)\n"
   ]
  },
  {
   "cell_type": "code",
   "execution_count": 10,
   "metadata": {},
   "outputs": [],
   "source": [
    "#6. rates_by_state_df\n",
    "#divide deaths by cases for state\n",
    "rates_by_state_df = deaths_by_state_df.div(cases_by_state_df)\n",
    "#rates_by_state_df=rates_by_state_df.fillna(0)\n",
    "del rates_by_state_df['stateFIPS']\n",
    "del rates_by_state_df['countyFIPS']\n",
    "#del rates_by_state_df['population']\n",
    "rates_by_state_df.to_csv('output_data/rates_by_state_df.csv', index=True, header=True)##per capita"
   ]
  },
  {
   "cell_type": "code",
   "execution_count": 11,
   "metadata": {},
   "outputs": [],
   "source": [
    "#7. cases_by_county_per_capita\n",
    "#divide by population\n",
    "cases_by_county_per_capita = cases_by_county_df\n",
    "list_of_columns = [column for column in cases_by_county_per_capita.columns if column not in ['countyFIPS', 'stateFIPS','population']]\n",
    "for column in list_of_columns:\n",
    "    cases_by_county_per_capita[column] = cases_by_county_per_capita[column]/cases_by_county_per_capita['population']\n",
    "cases_by_county_per_capita.to_csv('output_data/cases_by_county_per_capita.csv', index=True, header=True)   "
   ]
  },
  {
   "cell_type": "code",
   "execution_count": 12,
   "metadata": {},
   "outputs": [],
   "source": [
    "#8. deaths_by_county_per_capita\n",
    "#divide by population\n",
    "deaths_by_county_per_capita = deaths_by_county_df\n",
    "list_of_columns = [column for column in deaths_by_county_per_capita.columns if column not in ['countyFIPS', 'stateFIPS','population']]\n",
    "for column in list_of_columns:\n",
    "    deaths_by_county_per_capita[column] = deaths_by_county_per_capita[column]/deaths_by_county_per_capita['population']\n",
    "deaths_by_county_per_capita.to_csv('output_data/deaths_by_county_per_capita.csv', index=True, header=True)"
   ]
  },
  {
   "cell_type": "code",
   "execution_count": 13,
   "metadata": {},
   "outputs": [],
   "source": [
    "#9. rates_by_county_per_capita\n",
    "#divide by population\n",
    "rates_by_county_per_capita = rates_by_county_df\n",
    "list_of_columns = [column for column in rates_by_county_per_capita.columns if column not in ['countyFIPS', 'stateFIPS','population']]\n",
    "for column in list_of_columns:\n",
    "    rates_by_county_per_capita[column] = rates_by_county_per_capita[column]/rates_by_county_per_capita['population']\n",
    "rates_by_county_per_capita.to_csv('output_data/rates_by_county_per_capita.csv', index=True, header=True)"
   ]
  },
  {
   "cell_type": "code",
   "execution_count": 14,
   "metadata": {},
   "outputs": [],
   "source": [
    "#10. cases_by_state_per_capita\n",
    "#divide by population\n",
    "cases_by_state_per_capita = cases_by_state_df\n",
    "list_of_columns = [column for column in cases_by_state_per_capita.columns if column not in ['countyFIPS', 'stateFIPS','population']]\n",
    "for column in list_of_columns:\n",
    "    cases_by_state_per_capita[column] = cases_by_state_per_capita[column]/cases_by_state_per_capita['population']\n",
    "cases_by_state_per_capita.to_csv('output_data/cases_by_state_per_capita.csv', index=True, header=True)"
   ]
  },
  {
   "cell_type": "code",
   "execution_count": 15,
   "metadata": {},
   "outputs": [],
   "source": [
    "#11. deaths_by_state_per_capita\n",
    "#divide by population\n",
    "deaths_by_state_per_capita = deaths_by_state_df\n",
    "list_of_columns = [column for column in deaths_by_state_per_capita.columns if column not in ['countyFIPS', 'stateFIPS','population']]\n",
    "for column in list_of_columns:\n",
    "    deaths_by_state_per_capita[column] = deaths_by_state_per_capita[column]/deaths_by_state_per_capita['population']\n",
    "deaths_by_state_per_capita.to_csv('output_data/deaths_by_state_per_capita.csv', index=True, header=True)"
   ]
  },
  {
   "cell_type": "code",
   "execution_count": 16,
   "metadata": {},
   "outputs": [],
   "source": [
    "#12. rates_by_state_per_capita\n",
    "#divide by population\n",
    "rates_by_state_per_capita = rates_by_state_df\n",
    "list_of_columns = [column for column in rates_by_state_per_capita.columns if column not in ['countyFIPS', 'stateFIPS','population']]\n",
    "for column in list_of_columns:\n",
    "    rates_by_state_per_capita[column] = rates_by_state_per_capita[column]/rates_by_state_per_capita['population']\n",
    "rates_by_state_per_capita.to_csv('output_data/rates_by_state_per_capita.csv', index=True, header=True)"
   ]
  }
 ],
 "metadata": {
  "kernelspec": {
   "display_name": "Python [conda env:.conda-PythonData] *",
   "language": "python",
   "name": "conda-env-.conda-PythonData-py"
  },
  "language_info": {
   "codemirror_mode": {
    "name": "ipython",
    "version": 3
   },
   "file_extension": ".py",
   "mimetype": "text/x-python",
   "name": "python",
   "nbconvert_exporter": "python",
   "pygments_lexer": "ipython3",
   "version": "3.8.3"
  }
 },
 "nbformat": 4,
 "nbformat_minor": 4
}
